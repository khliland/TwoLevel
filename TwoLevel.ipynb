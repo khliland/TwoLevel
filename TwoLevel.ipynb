{
 "cells": [
  {
   "cell_type": "markdown",
   "metadata": {},
   "source": [
    "### Multi-response PLS"
   ]
  },
  {
   "cell_type": "code",
   "execution_count": 1,
   "metadata": {},
   "outputs": [],
   "source": [
    "import numpy as np\n",
    "import numpy.linalg as nplin\n",
    "\n",
    "# Helper function\n",
    "def issymmetric(X, rtol=1e-05, atol=1e-08):\n",
    "    \"\"\"\n",
    "    Check if a matrix is symmetric (with tolerance)\n",
    "    \"\"\"\n",
    "    if not np.diff(X.shape)[0] == 0:\n",
    "        return False\n",
    "    else:\n",
    "        return np.allclose(X, X.T, rtol=rtol, atol=atol)\n",
    "\n",
    "# Partial Least Squares Regression\n",
    "def plsr(X, Y, ncomp='max', algorithm='auto'):\n",
    "    \"\"\"\n",
    "    Just PLSR\n",
    "    \"\"\"\n",
    "    E = X - np.mean(X, axis=0)\n",
    "    F = Y - np.mean(Y, axis=0)\n",
    "    n_obj, p = X.shape\n",
    "    n_resp = Y.shape[1]\n",
    "    \n",
    "    if algorithm == 'auto':\n",
    "        if n_obj > p:\n",
    "            algorithm = 'NIPALS'\n",
    "        else:\n",
    "            algorithm = 'PKPLS'\n",
    "    \n",
    "    if ncomp == 'max':\n",
    "        ncomp = min(n_obj-1, p)\n",
    "\n",
    "    if algorithm == 'NIPALS':\n",
    "        T = np.zeros([n_obj, ncomp])\n",
    "        W = np.zeros([p, ncomp])\n",
    "        P = W.copy()\n",
    "        Q = np.zeros([n_resp, ncomp])\n",
    "        \n",
    "        for i in range(ncomp):\n",
    "            w, _, _ = nplin.svd(E.T @ F, full_matrices=False); w = w[:,0:1]\n",
    "            w = w / np.sqrt(np.sum(w**2))\n",
    "            t = E @ w\n",
    "            p = (E.T @ t) / np.sum(t**2)\n",
    "            q = (F.T @ t) / np.sum(t**2)\n",
    "            E = E - t @ p.T\n",
    "            F = F - t @ q.T\n",
    "            \n",
    "            W[:,i] = w[:,0]\n",
    "            T[:,i] = t[:,0]\n",
    "            P[:,i] = p[:,0]\n",
    "            Q[:,i] = q[:,0]\n",
    "\n",
    "    if algorithm == 'PKPLS':\n",
    "        if issymmetric(X):\n",
    "            C = X\n",
    "        else:\n",
    "            C = E @ E.T\n",
    "        Ry = np.zeros([n_obj, ncomp])\n",
    "        T  = np.zeros([n_obj, ncomp])\n",
    "        Q  = np.zeros([n_resp, ncomp])\n",
    "        for i in range(ncomp):\n",
    "            if n_resp == 1:\n",
    "                t = C @ F\n",
    "            else:\n",
    "                tt = C @ F\n",
    "                _, _, a = nplin.svd(F.T @ tt, full_matrices=False)\n",
    "                t = tt @ a[:,:1]\n",
    "            if i>0: # Orthogonalize on previous\n",
    "                t = t - T[:,:i] @ (T[:,:i].T @ t)\n",
    "            t = t / np.sqrt(np.sum(t**2))\n",
    "            T [:,i:i+1] = t\n",
    "            q = t.T @ F\n",
    "            Q[:,i] = q\n",
    "            if n_resp == 1:\n",
    "                Ry[:,i:i+1] = F\n",
    "            else:\n",
    "                Ry[:,i:i+1] = F @ a[:,:1]\n",
    "            F = F - t @ q\n",
    "        W = X.T @ Ry\n",
    "        W_norms = np.sqrt(np.sum(W**2, axis=0))\n",
    "        for i in range(ncomp):\n",
    "            W[:,i] = W[:,i]/W_norms[i]\n",
    "        P = X.T @ T\n",
    "    \n",
    "    return W, P, T, Q"
   ]
  },
  {
   "cell_type": "markdown",
   "metadata": {},
   "source": [
    "### Two level PLS-LDA + PLSR\n",
    "Test set prediction"
   ]
  },
  {
   "cell_type": "code",
   "execution_count": 2,
   "metadata": {},
   "outputs": [],
   "source": [
    "from sklearn.preprocessing import OneHotEncoder\n",
    "from sklearn.discriminant_analysis import LinearDiscriminantAnalysis as LDA\n",
    "\n",
    "# Predict a set of samples\n",
    "def TwoLevelPrediction(Xtrain, Ytrain, Gtrain, Xtest, ncompGroup, ncompLocal):\n",
    "    \"\"\"\n",
    "    Inputs:\n",
    "      Xtrain : features\n",
    "      Ytrain : target/response\n",
    "      Gtrain : groups for local models\n",
    "      Xtest : features\n",
    "      ncompGroups : number of pls components for classification\n",
    "      ncompLocal : number of pls components for local models\n",
    "    \"\"\"\n",
    "    # Classify\n",
    "    Ydummy = OneHotEncoder(sparse=False).fit_transform(Gtrain)\n",
    "    W, P, T, Q = plsr(Xtrain, Ydummy, ncomp=ncompGroup)\n",
    "    clf = LDA()\n",
    "    clf.fit(T, Gtrain[:,0])\n",
    "    XtestG = Xtest - np.mean(Xtrain, axis=0)\n",
    "    Gtest = clf.predict(XtestG @ (W@np.linalg.inv(P.T@W)))\n",
    "    \n",
    "    # Local prediction\n",
    "    y = np.zeros((Xtest.shape[0]))\n",
    "    for g in np.unique(Gtest):\n",
    "        W, P, T, Q = plsr(Xtrain[Gtrain[:,0]==g,:], Ytrain[Gtrain[:,0]==g], ncomp=min(ncompLocal[g],sum(Gtrain[:,0]==g)-1))\n",
    "        Xtestg = Xtest[Gtest==g,:] - np.mean(Xtrain[Gtrain[:,0]==g,:], axis=0)\n",
    "        y[Gtest==g] = (Xtestg @ (W@np.linalg.inv(P.T@W)@Q.T) + np.mean(Ytrain[Gtrain[:,0]==g]))[:,0]\n",
    "    return(y,Gtest)"
   ]
  },
  {
   "cell_type": "markdown",
   "metadata": {},
   "source": [
    "### Load data"
   ]
  },
  {
   "cell_type": "code",
   "execution_count": 3,
   "metadata": {},
   "outputs": [],
   "source": [
    "import scipy.io\n",
    "FTIR_AMW = scipy.io.loadmat('FTIR_AMW.mat')\n",
    "X = FTIR_AMW[\"spectraCorrectedShort\"]\n",
    "Y = FTIR_AMW[\"AMWall\"]\n",
    "group = FTIR_AMW[\"material\"]-1\n",
    "time  = FTIR_AMW[\"t3\"][:,0]"
   ]
  },
  {
   "cell_type": "code",
   "execution_count": 4,
   "metadata": {},
   "outputs": [],
   "source": [
    "ncompGroup = 50\n",
    "ncompLocal = [4,1,5,15,13,13,9,10,7,4,3,3,1,4,1,2,4,8,7,9,19,18,14,11,6,17,4,6]"
   ]
  },
  {
   "cell_type": "markdown",
   "metadata": {},
   "source": [
    "### Train test split"
   ]
  },
  {
   "cell_type": "code",
   "execution_count": 5,
   "metadata": {},
   "outputs": [],
   "source": [
    "# Random selection of train and test data keeping group:time repetitions together\n",
    "from sklearn.model_selection import train_test_split\n",
    "group_time = group[:,0]*1000+time\n",
    "gtu = np.unique(group_time)\n",
    "\n",
    "_, _, train, test = train_test_split(\n",
    "    np.arange(len(gtu)), np.arange(len(gtu)), test_size=0.3, random_state=42)\n",
    "\n",
    "Xtrain = X[np.isin(group_time, gtu[train]),:]\n",
    "Xtest  = X[np.isin(group_time, gtu[test]),:]\n",
    "Ytrain = Y[np.isin(group_time, gtu[train]),:]\n",
    "Ytest  = Y[np.isin(group_time, gtu[test]),:]\n",
    "Gtrain = group[np.isin(group_time, gtu[train])]\n",
    "Gtest  = group[np.isin(group_time, gtu[test])]"
   ]
  },
  {
   "cell_type": "markdown",
   "metadata": {},
   "source": [
    "### Two-level prediction of test set"
   ]
  },
  {
   "cell_type": "code",
   "execution_count": 6,
   "metadata": {},
   "outputs": [],
   "source": [
    "Ypred, Gpred = TwoLevelPrediction(Xtrain, Ytrain, Gtrain, Xtest, ncompGroup, ncompLocal)"
   ]
  },
  {
   "cell_type": "code",
   "execution_count": 7,
   "metadata": {
    "slideshow": {
     "slide_type": "fragment"
    }
   },
   "outputs": [
    {
     "name": "stdout",
     "output_type": "stream",
     "text": [
      "RMSEP: 296.66733730818703\n",
      "R2:     93.32556747020068\n"
     ]
    }
   ],
   "source": [
    "print(\"RMSEP:\", np.sqrt(np.mean(np.power((Ytest[:,0]-Ypred), 2))))\n",
    "print(\"R2:    \", 100*(1 - np.mean(np.power((Ytest[:,0]-Ypred), 2)) / \n",
    "                      np.mean(np.power((Ytest[:,0]-np.mean(Ytest[:,0])), 2))))"
   ]
  },
  {
   "cell_type": "code",
   "execution_count": 8,
   "metadata": {},
   "outputs": [
    {
     "data": {
      "image/png": "[encoded data removed]",
      "text/plain": [
       "<Figure size 432x288 with 1 Axes>"
      ]
     },
     "metadata": {
      "needs_background": "light"
     },
     "output_type": "display_data"
    }
   ],
   "source": [
    "import matplotlib.pyplot as plt\n",
    "plt.scatter(Ytest[:,0],Ypred, c = Gtest[:,0])\n",
    "plt.plot([500,6000],[500,6000],'-r')\n",
    "plt.xlabel(\"True\")\n",
    "plt.ylabel(\"Predicted\")\n",
    "plt.show()"
   ]
  }
 ],
 "metadata": {
  "jupytext": {
   "formats": "ipynb,py:light"
  },
  "kernelspec": {
   "display_name": "Python 3",
   "language": "python",
   "name": "python3"
  },
  "language_info": {
   "codemirror_mode": {
    "name": "ipython",
    "version": 3
   },
   "file_extension": ".py",
   "mimetype": "text/x-python",
   "name": "python",
   "nbconvert_exporter": "python",
   "pygments_lexer": "ipython3",
   "version": "3.7.7"
  },
  "varInspector": {
   "cols": {
    "lenName": 16,
    "lenType": 16,
    "lenVar": 40
   },
   "kernels_config": {
    "python": {
     "delete_cmd_postfix": "",
     "delete_cmd_prefix": "del ",
     "library": "var_list.py",
     "varRefreshCmd": "print(var_dic_list())"
    },
    "r": {
     "delete_cmd_postfix": ") ",
     "delete_cmd_prefix": "rm(",
     "library": "var_list.r",
     "varRefreshCmd": "cat(var_dic_list()) "
    }
   },
   "types_to_exclude": [
    "module",
    "function",
    "builtin_function_or_method",
    "instance",
    "_Feature"
   ],
   "window_display": false
  }
 },
 "nbformat": 4,
 "nbformat_minor": 4
}
